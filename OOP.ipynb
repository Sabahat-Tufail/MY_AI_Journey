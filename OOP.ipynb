{
 "cells": [
  {
   "cell_type": "code",
   "execution_count": 15,
   "id": "132109e3-460b-42bb-96f4-14c03bf1c9f6",
   "metadata": {},
   "outputs": [
    {
     "name": "stdout",
     "output_type": "stream",
     "text": [
      "1500\n",
      "100500000\n",
      "outof balance\n",
      "1500\n"
     ]
    }
   ],
   "source": [
    "class BankAccount:\n",
    "    def __init__(self,balance):\n",
    "        self.balance=balance\n",
    "\n",
    "    def deposit(self,amount):\n",
    "        self.balance+=amount\n",
    "    def withdraw(self,amount):\n",
    "       \n",
    "        if amount>self.balance:\n",
    "            print(\"outof balance\")\n",
    "        else:\n",
    "          self.balance-=amount\n",
    "\n",
    "account=BankAccount(1000)\n",
    "account.deposit(500)\n",
    "print(account.balance)\n",
    "obj=BankAccount(100000000)\n",
    "obj.deposit(500000)\n",
    "print(obj.balance)\n",
    "account.withdraw(18875)\n",
    "print(account.balance)"
   ]
  },
  {
   "cell_type": "code",
   "execution_count": 19,
   "id": "a3432d5d-071d-4258-9ec2-ed23cc3e8589",
   "metadata": {},
   "outputs": [
    {
     "name": "stdout",
     "output_type": "stream",
     "text": [
      "toyota corolla's engine started\n",
      "gfcvhj\n"
     ]
    }
   ],
   "source": [
    "class car:\n",
    "    def __init__(self,brand,model):\n",
    "        self.brand=brand\n",
    "        self.model=model\n",
    "    def start_engine(self):\n",
    "        print(f\"{self.brand} {self.model}'s engine started\")\n",
    "\n",
    "mycar=car(\"toyota\",\"corolla\")\n",
    "mycar.start_engine()\n",
    "mycar.model=\"gfcvhj\"\n",
    "print(mycar.model)\n"
   ]
  },
  {
   "cell_type": "code",
   "execution_count": 23,
   "id": "eaf683ae-01f1-427b-bdda-413a87539f10",
   "metadata": {},
   "outputs": [],
   "source": [
    "stack=[]\n",
    "def push(val):\n",
    "  stack.append(val)\n",
    "\n",
    "def pop():\n",
    "  val=stack[-1]\n",
    "  del stack[-1]\n",
    "  return val\n",
    "\n",
    "push(3)\n",
    "push(2)\n",
    "push(1)"
   ]
  },
  {
   "cell_type": "code",
   "execution_count": 26,
   "id": "ac1a8c0a-c573-4699-81da-3bf2236d4836",
   "metadata": {},
   "outputs": [
    {
     "name": "stdout",
     "output_type": "stream",
     "text": [
      "3\n",
      "2\n",
      "1\n"
     ]
    }
   ],
   "source": [
    "class stack:\n",
    "    def __init__(self):\n",
    "        self.__stacklist=[]\n",
    "    def push(self,val):\n",
    "        self.__stacklist.append(val)\n",
    "    def pop(self):\n",
    "        val = self.__stacklist[-1]\n",
    "        del self.__stacklist[-1]\n",
    "        return val\n",
    "\n",
    "obj1=stack()\n",
    "obj1.push(1)\n",
    "obj1.push(2)\n",
    "obj1.push(3)\n",
    "print(obj1.pop())\n",
    "print(obj1.pop())\n",
    "print(obj1.pop())\n"
   ]
  },
  {
   "cell_type": "code",
   "execution_count": 9,
   "id": "7698155c-8e1b-4eac-981a-728612ec0329",
   "metadata": {},
   "outputs": [
    {
     "name": "stdout",
     "output_type": "stream",
     "text": [
      "1\n"
     ]
    }
   ],
   "source": [
    "class ExampleClass:\n",
    "    def __init__(self,val):\n",
    "        if val % 2 !=0:\n",
    "            self.a=1\n",
    "        else:\n",
    "            self.b=1\n",
    "\n",
    "example_obj = ExampleClass(1)\n",
    "print(example_obj.a)\n",
    "if  hasattr(example_obj,'b'):\n",
    "     print(example_obj.b)"
   ]
  },
  {
   "cell_type": "code",
   "execution_count": 10,
   "id": "43e1c53c-6f0c-4904-9706-fd387877dd11",
   "metadata": {},
   "outputs": [
    {
     "name": "stdout",
     "output_type": "stream",
     "text": [
      "True\n",
      "False\n"
     ]
    }
   ],
   "source": [
    "class ExampleClass:\n",
    "    attr=1\n",
    "print(hasattr(ExampleClass,\"attr\"))\n",
    "print(hasattr(ExampleClass,\"prop\"))"
   ]
  },
  {
   "cell_type": "code",
   "execution_count": 13,
   "id": "2e2b367c-f98d-4dd0-8fc8-038bb1f02391",
   "metadata": {},
   "outputs": [
    {
     "name": "stdout",
     "output_type": "stream",
     "text": [
      "False\n",
      "True\n",
      "False\n",
      "True\n"
     ]
    }
   ],
   "source": [
    "class ExampleClass:\n",
    "   a=1\n",
    "   def __init_(self):\n",
    "     self.b=2\n",
    "example_obj=ExampleClass()\n",
    "print(hasattr(example_obj,'b'))\n",
    "print(hasattr(example_obj,'a'))\n",
    "print(hasattr(ExampleClass,'b'))\n",
    "print(hasattr(ExampleClass,'a'))"
   ]
  },
  {
   "cell_type": "code",
   "execution_count": 16,
   "id": "216d83ad-e207-483e-a357-bed8ac08a90d",
   "metadata": {},
   "outputs": [
    {
     "name": "stdout",
     "output_type": "stream",
     "text": [
      "{'alpha': 1, '_Sample__delta': 3, 'beta': 2}\n"
     ]
    }
   ],
   "source": [
    "class Sample:\n",
    "    gamma=0\n",
    "    def __init__(self):\n",
    "        self.alpha = 1\n",
    "        self.__delta=3\n",
    "\n",
    "obj=Sample()\n",
    "obj.beta=2\n",
    "print(obj.__dict__)"
   ]
  },
  {
   "cell_type": "code",
   "execution_count": 21,
   "id": "eae4e33c-4aef-44f8-8857-8cca48543f21",
   "metadata": {},
   "outputs": [
    {
     "name": "stdout",
     "output_type": "stream",
     "text": [
      "method 1 2\n"
     ]
    }
   ],
   "source": [
    "class Classy:\n",
    "    def method(self,par1,par2):\n",
    "        print(\"method\",par1,par2)\n",
    "\n",
    "obj =Classy()\n",
    "obj.method(1,2)"
   ]
  },
  {
   "cell_type": "code",
   "execution_count": 33,
   "id": "de224726-9118-4a2f-9d20-56acf455a36b",
   "metadata": {},
   "outputs": [
    {
     "name": "stdout",
     "output_type": "stream",
     "text": [
      "Class Animal inherits from object \n",
      "Class Mammal inherits from Animal \n",
      "Class Bird inherits from Animal \n",
      "Class Bat inherits from Bird Mammal \n"
     ]
    }
   ],
   "source": [
    "class Animal:\n",
    "    pass\n",
    "class Mammal(Animal):\n",
    "    pass\n",
    "class Bird(Animal):\n",
    "    pass\n",
    "class Bat(Bird,Mammal):\n",
    "    pass\n",
    "\n",
    "def printBases(cls):\n",
    "    print(f'Class {cls.__name__} inherits from ', end='')\n",
    "\n",
    "    for x in cls.__bases__:\n",
    "        print(f\"{x.__name__}\",end=' ')\n",
    "    print()\n",
    "\n",
    "printBases(Animal)\n",
    "printBases(Mammal)\n",
    "printBases(Bird)\n",
    "printBases(Bat)\n"
   ]
  },
  {
   "cell_type": "code",
   "execution_count": null,
   "id": "98e5323f-c52b-4013-a99a-2184a9a4e16e",
   "metadata": {},
   "outputs": [],
   "source": [
    "class myclass:\n",
    "    pass\n",
    "\n",
    "obj=myclass()\n",
    "obj.a=1\n",
    "obj.b=2\n",
    "obj.i=3\n",
    "obj.ireal=3.5\n",
    "obj.integer=7\n",
    "obj.z=5\n"
   ]
  },
  {
   "cell_type": "code",
   "execution_count": 4,
   "id": "17a6bcf0-714f-4e40-857d-84c04438ef5d",
   "metadata": {},
   "outputs": [
    {
     "name": "stdout",
     "output_type": "stream",
     "text": [
      "1\n",
      "2\n",
      "4\n",
      "8\n",
      "16\n",
      "32\n",
      "64\n",
      "128\n"
     ]
    }
   ],
   "source": [
    "def fun(n):\n",
    "   power=1\n",
    "   for i in range(n):\n",
    "       yield power\n",
    "       power *=2\n",
    "for v in fun(8):\n",
    "    print(v)"
   ]
  },
  {
   "cell_type": "code",
   "execution_count": null,
   "id": "a28e3fa0-b4e0-445e-958f-20367806b6b0",
   "metadata": {},
   "outputs": [],
   "source": []
  }
 ],
 "metadata": {
  "kernelspec": {
   "display_name": "Python 3 (ipykernel)",
   "language": "python",
   "name": "python3"
  },
  "language_info": {
   "codemirror_mode": {
    "name": "ipython",
    "version": 3
   },
   "file_extension": ".py",
   "mimetype": "text/x-python",
   "name": "python",
   "nbconvert_exporter": "python",
   "pygments_lexer": "ipython3",
   "version": "3.12.7"
  }
 },
 "nbformat": 4,
 "nbformat_minor": 5
}
