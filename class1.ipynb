{
 "cells": [
  {
   "cell_type": "code",
   "execution_count": 9,
   "id": "86e5b8ce-73dd-4cc8-a105-c57c71a789bd",
   "metadata": {},
   "outputs": [
    {
     "name": "stdin",
     "output_type": "stream",
     "text": [
      "enter num 1 3\n",
      "enter num 2 3\n"
     ]
    },
    {
     "name": "stdout",
     "output_type": "stream",
     "text": [
      "sum : 6\n"
     ]
    }
   ],
   "source": [
    "a=int(input(\"enter num 1\"))\n",
    "b=int(input(\"enter num 2\"))\n",
    "c=a+b\n",
    "print(\"sum :\",c)\n",
    "\n"
   ]
  },
  {
   "cell_type": "code",
   "execution_count": 23,
   "id": "776a0fbd-63c2-4bfa-a5f6-85087ea91ed9",
   "metadata": {},
   "outputs": [
    {
     "name": "stdin",
     "output_type": "stream",
     "text": [
      "enter num  5\n"
     ]
    },
    {
     "name": "stdout",
     "output_type": "stream",
     "text": [
      "5 is odd\n"
     ]
    }
   ],
   "source": [
    "a=int(input(\"enter num \"))\n",
    "if(a/2 == 0):\n",
    " print(a,\"is even\")\n",
    "else:\n",
    " print(a , \"is odd\")"
   ]
  },
  {
   "cell_type": "code",
   "execution_count": 38,
   "id": "7f91e221-6213-4ff0-affa-9962c4a76136",
   "metadata": {},
   "outputs": [
    {
     "name": "stdout",
     "output_type": "stream",
     "text": [
      "['apple', 'banana', 'cherry']\n",
      "['hello', 3.14, True]\n",
      "['apple', 'banana']\n",
      "cherry\n",
      "['apple', 'mango', 'cherry']\n",
      "<class 'list'>\n"
     ]
    }
   ],
   "source": [
    "fruits = [\"apple\",\"banana\",\"cherry\"]\n",
    "mixed =[\"hello\",3.14,True]\n",
    "print(fruits)\n",
    "print(mixed)\n",
    "print(fruits[0:2])\n",
    "print(fruits[-1])#last item of list will be displayed\n",
    "fruits[1]='mango'\n",
    "print(fruits)\n",
    "print(type(mixed))\n",
    "del fruits[1]\n"
   ]
  },
  {
   "cell_type": "code",
   "execution_count": 34,
   "id": "03c55dad-94ab-4235-b5c5-194734f07314",
   "metadata": {},
   "outputs": [
    {
     "name": "stdout",
     "output_type": "stream",
     "text": [
      "[-3, 1, 3, 5, 9]\n",
      "5\n",
      "yes 3 is present in list numbers\n"
     ]
    }
   ],
   "source": [
    "numbers=[3,1,5,-3,9]\n",
    "numbers.sort();\n",
    "print(numbers)\n",
    "print(len(numbers))\n",
    "if 3 in numbers:#indentation \n",
    "    print(\"yes 3 is present in list numbers\")"
   ]
  },
  {
   "cell_type": "code",
   "execution_count": 22,
   "id": "2580786b-2bdc-4310-ab4b-3d5de1f3e373",
   "metadata": {},
   "outputs": [
    {
     "name": "stdout",
     "output_type": "stream",
     "text": [
      "[0, 1, 4, 9, 16]\n"
     ]
    }
   ],
   "source": [
    "squares=[x**2 for x in range(5)]#shows multiplication\n",
    "print (squares)"
   ]
  },
  {
   "cell_type": "code",
   "execution_count": 40,
   "id": "f27b1682-fd89-4068-9ea6-734168c8ac39",
   "metadata": {},
   "outputs": [
    {
     "name": "stdout",
     "output_type": "stream",
     "text": [
      "[-3, 1, 2, 4, 6, 9]\n",
      "Second largest elemt  6\n"
     ]
    }
   ],
   "source": [
    "list=[1,2,6,4,9,-3]\n",
    "list.sort()\n",
    "print(list)\n",
    "print(\"Second largest elemt \", list[-2])"
   ]
  },
  {
   "cell_type": "code",
   "execution_count": 48,
   "id": "b9023541-0927-4c64-8187-3c1fd900d173",
   "metadata": {},
   "outputs": [
    {
     "name": "stdout",
     "output_type": "stream",
     "text": [
      "<class 'tuple'>\n"
     ]
    }
   ],
   "source": [
    "names=(\"saba\",)\n",
    "print(type(names))"
   ]
  },
  {
   "cell_type": "code",
   "execution_count": 5,
   "id": "1cbb48dd-8a88-4fa7-a478-492f62d8bd87",
   "metadata": {},
   "outputs": [
    {
     "name": "stdout",
     "output_type": "stream",
     "text": [
      "{1, 2, 3, 4, 5}\n"
     ]
    }
   ],
   "source": [
    "numbers={1,2,3,4,4,5}\n",
    "print(numbers)"
   ]
  },
  {
   "cell_type": "code",
   "execution_count": null,
   "id": "2b29547d-854a-4969-8bcb-b951ca2c3193",
   "metadata": {},
   "outputs": [],
   "source": [
    "set1={\"apple\",1,2,"
   ]
  }
 ],
 "metadata": {
  "kernelspec": {
   "display_name": "Python [conda env:base] *",
   "language": "python",
   "name": "conda-base-py"
  },
  "language_info": {
   "codemirror_mode": {
    "name": "ipython",
    "version": 3
   },
   "file_extension": ".py",
   "mimetype": "text/x-python",
   "name": "python",
   "nbconvert_exporter": "python",
   "pygments_lexer": "ipython3",
   "version": "3.12.7"
  }
 },
 "nbformat": 4,
 "nbformat_minor": 5
}
