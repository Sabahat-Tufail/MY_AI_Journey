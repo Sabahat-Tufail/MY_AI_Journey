{
 "cells": [
  {
   "cell_type": "code",
   "execution_count": 7,
   "id": "99d410bb-ec43-46ea-94f1-38f87d74d125",
   "metadata": {},
   "outputs": [
    {
     "name": "stdout",
     "output_type": "stream",
     "text": [
      "data: [2, 4, 6, 8, 10, 12, 14, 16, 18, 20]\n",
      "data range: 18\n",
      "variance: 36.666666666666664\n",
      "mean: 11\n",
      "standard deviation: 6.0553007081949835\n"
     ]
    }
   ],
   "source": [
    "import statistics\n",
    "data =[2,4,6,8,10,12,14,16,18,20]\n",
    "data_range=max(data)-min(data)\n",
    "\n",
    "variance=statistics.variance(data)\n",
    "mean=statistics.mean(data)\n",
    "std_dev=statistics.stdev(data)\n",
    "print(f\"data: {data}\")\n",
    "print(f\"data range: {data_range}\")\n",
    "print(f\"variance: {variance}\")\n",
    "print(f\"mean: {mean}\")\n",
    "print(f\"standard deviation: {std_dev}\")"
   ]
  },
  {
   "cell_type": "code",
   "execution_count": 2,
   "id": "886b96ef-de27-4bfa-af74-6df7bcb55cd5",
   "metadata": {},
   "outputs": [
    {
     "data": {
      "text/plain": [
       "array([1, 2, 3, 4, 5, 6])"
      ]
     },
     "execution_count": 2,
     "metadata": {},
     "output_type": "execute_result"
    }
   ],
   "source": [
    "import numpy as np\n",
    "a=np.array([1,2,3,4,5,6])\n",
    "a"
   ]
  },
  {
   "cell_type": "code",
   "execution_count": 3,
   "id": "183f2066-b354-4066-9db9-0587f1a45342",
   "metadata": {},
   "outputs": [
    {
     "data": {
      "text/plain": [
       "dtype('int32')"
      ]
     },
     "execution_count": 3,
     "metadata": {},
     "output_type": "execute_result"
    }
   ],
   "source": [
    "a.dtype"
   ]
  },
  {
   "cell_type": "code",
   "execution_count": 4,
   "id": "964c77ce-aea6-47c6-82fa-ec7876819a2a",
   "metadata": {},
   "outputs": [
    {
     "data": {
      "text/plain": [
       "array([1., 1.])"
      ]
     },
     "execution_count": 4,
     "metadata": {},
     "output_type": "execute_result"
    }
   ],
   "source": [
    "np.ones(2)"
   ]
  },
  {
   "cell_type": "code",
   "execution_count": 5,
   "id": "4b6aae2e-d10e-4afb-965c-ca1d70a5f854",
   "metadata": {},
   "outputs": [
    {
     "data": {
      "text/plain": [
       "array([0., 0.])"
      ]
     },
     "execution_count": 5,
     "metadata": {},
     "output_type": "execute_result"
    }
   ],
   "source": [
    "np.zeros(2)"
   ]
  },
  {
   "cell_type": "code",
   "execution_count": 7,
   "id": "33f31497-1baa-425c-be98-6ee6cab4576c",
   "metadata": {},
   "outputs": [
    {
     "data": {
      "text/plain": [
       "array([2, 4, 6, 8])"
      ]
     },
     "execution_count": 7,
     "metadata": {},
     "output_type": "execute_result"
    }
   ],
   "source": [
    "np.arange(2,9,2)"
   ]
  },
  {
   "cell_type": "code",
   "execution_count": 8,
   "id": "2e25690d-ee3c-411c-b552-fcda401c8655",
   "metadata": {},
   "outputs": [
    {
     "data": {
      "text/plain": [
       "array([0, 1, 2, 3])"
      ]
     },
     "execution_count": 8,
     "metadata": {},
     "output_type": "execute_result"
    }
   ],
   "source": [
    "np.arange(4)"
   ]
  },
  {
   "cell_type": "code",
   "execution_count": 9,
   "id": "401e2326-7653-4e22-8ec4-5559117104bf",
   "metadata": {},
   "outputs": [
    {
     "data": {
      "text/plain": [
       "array([7.56599128e-307, 1.60219035e-306])"
      ]
     },
     "execution_count": 9,
     "metadata": {},
     "output_type": "execute_result"
    }
   ],
   "source": [
    "np.empty(2)"
   ]
  },
  {
   "cell_type": "code",
   "execution_count": 15,
   "id": "0cfb0baf-63d9-4af0-9621-1cb08bbaa9d0",
   "metadata": {},
   "outputs": [
    {
     "data": {
      "text/plain": [
       "array([ 1,  2,  3,  5,  6,  7,  8, 90])"
      ]
     },
     "execution_count": 15,
     "metadata": {},
     "output_type": "execute_result"
    }
   ],
   "source": [
    "arr=np.array([2,1,3,8,6,5,7,90])\n",
    "np.sort(arr)"
   ]
  },
  {
   "cell_type": "code",
   "execution_count": 16,
   "id": "0d63373c-33cd-4ef1-b29e-863f99f0773c",
   "metadata": {},
   "outputs": [
    {
     "data": {
      "text/plain": [
       "array([ 0. ,  2.5,  5. ,  7.5, 10. ])"
      ]
     },
     "execution_count": 16,
     "metadata": {},
     "output_type": "execute_result"
    }
   ],
   "source": [
    "np.linspace(0,10,num=5)"
   ]
  },
  {
   "cell_type": "code",
   "execution_count": 17,
   "id": "628ba57d-af32-4078-8897-3b2d9745706d",
   "metadata": {},
   "outputs": [
    {
     "data": {
      "text/plain": [
       "array([1, 0, 2, 5, 4, 6, 3, 7], dtype=int64)"
      ]
     },
     "execution_count": 17,
     "metadata": {},
     "output_type": "execute_result"
    }
   ],
   "source": [
    "arr=np.array([2,1,3,8,6,5,7,90])\n",
    "np.argsort(arr)"
   ]
  },
  {
   "cell_type": "code",
   "execution_count": 3,
   "id": "84d5d00f-3c8a-4e42-a414-9af64979c33d",
   "metadata": {},
   "outputs": [
    {
     "name": "stdout",
     "output_type": "stream",
     "text": [
      "20\n"
     ]
    }
   ],
   "source": [
    "import numpy as np\n",
    "arr=np.array([5,10,15,20,25])\n",
    "print(arr[-2])"
   ]
  },
  {
   "cell_type": "code",
   "execution_count": 5,
   "id": "01ca5221-6add-4ea5-8472-ed2328f8eaf4",
   "metadata": {},
   "outputs": [
    {
     "name": "stdout",
     "output_type": "stream",
     "text": [
      "[ 5 10 15 20]\n"
     ]
    }
   ],
   "source": [
    "arr=np.array([5,10,15,20,25])\n",
    "print(arr[:4])"
   ]
  },
  {
   "cell_type": "code",
   "execution_count": 13,
   "id": "92b6fc8e-4a9b-40d5-a289-caf2e373fa36",
   "metadata": {},
   "outputs": [
    {
     "data": {
      "text/plain": [
       "(4, 1)"
      ]
     },
     "execution_count": 13,
     "metadata": {},
     "output_type": "execute_result"
    }
   ],
   "source": [
    "arr=np.array([5,10,15,20])\n",
    "b=np.expand_dims(arr,axis=1)\n",
    "b.shape"
   ]
  },
  {
   "cell_type": "code",
   "execution_count": 14,
   "id": "5264122a-c667-41f0-8840-044aa6189ea1",
   "metadata": {},
   "outputs": [
    {
     "data": {
      "text/plain": [
       "(1, 4)"
      ]
     },
     "execution_count": 14,
     "metadata": {},
     "output_type": "execute_result"
    }
   ],
   "source": [
    "arr=np.array([5,10,15,20])\n",
    "b=np.expand_dims(arr,axis=0)\n",
    "b.shape"
   ]
  },
  {
   "cell_type": "code",
   "execution_count": 16,
   "id": "07f2be87-aeed-4193-8f04-f091bb3bca7d",
   "metadata": {},
   "outputs": [
    {
     "name": "stdout",
     "output_type": "stream",
     "text": [
      "Orignal array [ 5 10 15 20]\n",
      "copied array and modified [99 10 15 20]\n"
     ]
    }
   ],
   "source": [
    "c=np.copy(arr)\n",
    "print(\"Orignal array\",arr)\n",
    "c[0]=99\n",
    "print(\"copied array and modified\",c)"
   ]
  },
  {
   "cell_type": "code",
   "execution_count": 19,
   "id": "4417340a-253c-4d8c-879d-9b037d997167",
   "metadata": {},
   "outputs": [
    {
     "name": "stdout",
     "output_type": "stream",
     "text": [
      "Appended array [ 5 10 15 20  7]\n",
      "inserted array: [   5   10   15   20 1000]\n"
     ]
    }
   ],
   "source": [
    "d=np.append(arr,7)\n",
    "print(\"Appended array\",d)\n",
    "f=np.insert(arr,4,1000)\n",
    "print(\"inserted array:\",f)"
   ]
  },
  {
   "cell_type": "code",
   "execution_count": 28,
   "id": "c8c00ba4-1ec5-4af6-965f-f9615b8e1145",
   "metadata": {},
   "outputs": [
    {
     "name": "stdout",
     "output_type": "stream",
     "text": [
      "Sorted array Asc :  [10 15 20 99]\n",
      "Desc :  [99 20 15 10]\n"
     ]
    }
   ],
   "source": [
    "sorted_array=np.sort(c)\n",
    "print(\"Sorted array Asc : \",sorted_array)\n",
    "des=np.flip(sorted_array)\n",
    "print(\"Desc : \",des)"
   ]
  },
  {
   "cell_type": "code",
   "execution_count": 36,
   "id": "d7375c6f-0731-45db-a294-a87b6917adce",
   "metadata": {},
   "outputs": [
    {
     "name": "stdout",
     "output_type": "stream",
     "text": [
      "REmoved 15 [   5   10   20 1000]\n",
      "deleted  [   5   10   15 1000]\n"
     ]
    }
   ],
   "source": [
    "remove=f[f!=15]\n",
    "print(\"REmoved 15\",remove)\n",
    "delete=np.delete(f,3)\n",
    "print(\"deleted \",delete)"
   ]
  },
  {
   "cell_type": "code",
   "execution_count": 43,
   "id": "2664e30d-32d0-4c93-b394-6a01d928715b",
   "metadata": {},
   "outputs": [
    {
     "name": "stdout",
     "output_type": "stream",
     "text": [
      "contacatenate :  [1 2 3 4 5 6]\n",
      "contacatenate :  [1 2 3 4 5 6 1 2 3 4 5 6]\n"
     ]
    }
   ],
   "source": [
    "arr1=np.array([1,2,3])\n",
    "arr2=np.array([4,5,6])\n",
    "arr3=np.concatenate((arr1,arr2))\n",
    "print(\"contacatenate : \",arr3)\n",
    "arr4=np.array([5,6,7])\n",
    "arr5=np.concatenate((arr1,arr2,arr3))\n",
    "print(\"contacatenate : \",arr5)"
   ]
  },
  {
   "cell_type": "code",
   "execution_count": 54,
   "id": "0353e5bf-37f1-4720-a128-a73caba386f5",
   "metadata": {},
   "outputs": [
    {
     "name": "stdout",
     "output_type": "stream",
     "text": [
      "orignal array :  [100 200 300 400 500]\n",
      "Copied array [100 200 300 400 999]\n",
      "Appended array [100 200 300 400 500 700 900]\n",
      "inserted array: [100 250 200 300 400 500 700 900]\n",
      "Sorted array Asc :  [100 200 250 300 400 500 700 900]\n",
      "splited array [array([100, 250, 200, 300]), array([400, 500, 700, 900])]\n"
     ]
    }
   ],
   "source": [
    "array=np.array([100,200,300,400,500])\n",
    "print(\"orignal array : \",array)\n",
    "copied=np.copy(array)\n",
    "copied[-1]=999\n",
    "print(\"Copied array\",copied)\n",
    "array=np.append(array,[700,900])\n",
    "print(\"Appended array\",array)\n",
    "array=np.insert(array,1,250)\n",
    "print(\"inserted array:\",array)\n",
    "sorted_array=np.sort(array)\n",
    "print(\"Sorted array Asc : \",sorted_array)\n",
    "splited=np.split(array,2)\n",
    "print(\"splited array\",splited)\n",
    "\n",
    "\n",
    "\n"
   ]
  },
  {
   "cell_type": "code",
   "execution_count": null,
   "id": "ec664308-1c69-4be1-8570-e087f0af3cff",
   "metadata": {},
   "outputs": [],
   "source": []
  }
 ],
 "metadata": {
  "kernelspec": {
   "display_name": "Python 3 (ipykernel)",
   "language": "python",
   "name": "python3"
  },
  "language_info": {
   "codemirror_mode": {
    "name": "ipython",
    "version": 3
   },
   "file_extension": ".py",
   "mimetype": "text/x-python",
   "name": "python",
   "nbconvert_exporter": "python",
   "pygments_lexer": "ipython3",
   "version": "3.12.7"
  }
 },
 "nbformat": 4,
 "nbformat_minor": 5
}
