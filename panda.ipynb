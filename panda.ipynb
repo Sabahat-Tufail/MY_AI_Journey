{
 "cells": [
  {
   "cell_type": "code",
   "execution_count": 5,
   "id": "7ec5d3f5-1ceb-4497-817c-e2738f96eb70",
   "metadata": {},
   "outputs": [
    {
     "name": "stdout",
     "output_type": "stream",
     "text": [
      "0       orange\n",
      "1        apple\n",
      "2       banana\n",
      "3          kwi\n",
      "4    strwabery\n",
      "dtype: object\n"
     ]
    }
   ],
   "source": [
    "import pandas as pd\n",
    "data=pd.Series([\"orange\",\"apple\",\"banana\",\"kwi\",\"strwabery\"]),\n",
    "print(data)"
   ]
  },
  {
   "cell_type": "code",
   "execution_count": 18,
   "id": "7f0d0991-2dc1-427c-9800-0033bc217e13",
   "metadata": {},
   "outputs": [
    {
     "name": "stdout",
     "output_type": "stream",
     "text": [
      "  students  grade\n",
      "0   areeba     50\n",
      "1   sbahat     90\n",
      "2   kashaf     96\n",
      "3   maliha     99\n",
      "4     doaa     80\n",
      "  students  grade Department\n",
      "1   sbahat     90         EE\n",
      "2   kashaf     96         CE\n",
      "3   maliha     99         SE\n",
      "          grade Department\n",
      "students                  \n",
      "areeba       50       DCSE\n",
      "sbahat       90         EE\n",
      "kashaf       96         CE\n",
      "maliha       99         SE\n",
      "doaa         80         AG\n"
     ]
    }
   ],
   "source": [
    "import pandas as pd\n",
    "\n",
    "DATA_1 = {\n",
    "    'students': ['areeba', 'sbahat', 'kashaf', 'maliha', 'doaa'],\n",
    "    'grade': [50, 90, 96, 99, 80],  # changed to integers\n",
    "    'Department': ['DCSE', 'EE', 'CE', 'SE', 'AG']\n",
    "}\n",
    "\n",
    "data_frame = pd.DataFrame(DATA_1)\n",
    "\n",
    "\n",
    "print(data_frame[['students','grade']])\n",
    "\n",
    "\n",
    "print(data_frame[data_frame['grade'] > 80])\n",
    "\n",
    "\n",
    "data_frame.set_index('students', inplace=True)\n",
    "print(data_frame)\n",
    "\n",
    "\n"
   ]
  },
  {
   "cell_type": "code",
   "execution_count": 32,
   "id": "3e4fd82d-c4f8-4004-b51e-ba37bb573c7d",
   "metadata": {},
   "outputs": [
    {
     "name": "stdout",
     "output_type": "stream",
     "text": [
      "   Student  Math  Physics  CS Department\n",
      "0   Areeba    85       80  90         CS\n",
      "1  Sabahat    90       85  88         EE\n",
      "2   Kashaf    78       75  82         CE\n",
      "3   Maliha    92       95  97         CS\n",
      "4     Doaa    88       90  85         ME\n",
      "5   Zainab    76       70  78         CE\n",
      "6    Ahmed    80       88  92         CS\n",
      "7    Usman    95       93  96         EE\n",
      "8   Fatima    89       84  91         CS\n",
      "9   Hassan    70       65  72         ME\n"
     ]
    }
   ],
   "source": [
    "import pandas as pd\n",
    "data = {\n",
    "    'Student': ['Areeba', 'Sabahat', 'Kashaf', 'Maliha', 'Doaa', 'Zainab', 'Ahmed', 'Usman', 'Fatima', 'Hassan'],\n",
    "    'Math': [85, 90, 78, 92, 88, 76, 80, 95, 89, 70],\n",
    "    'Physics': [80, 85, 75, 95, 90, 70, 88, 93, 84, 65],\n",
    "    'CS': [90, 88, 82, 97, 85, 78, 92, 96, 91, 72],\n",
    "    'Department': ['CS', 'EE', 'CE', 'CS', 'ME', 'CE', 'CS', 'EE', 'CS', 'ME']\n",
    "}\n",
    "df = pd.DataFrame(data)\n",
    "\n",
    "print(df)\n"
   ]
  },
  {
   "cell_type": "code",
   "execution_count": 37,
   "id": "067090af-6031-456c-8f46-34371e0eb937",
   "metadata": {},
   "outputs": [
    {
     "name": "stdout",
     "output_type": "stream",
     "text": [
      "-----------Average------\n",
      "    Student  Math  Physics  CS Department    average\n",
      "0   Areeba    85       80  90         CS  85.000000\n",
      "1  Sabahat    90       85  88         EE  87.666667\n",
      "2   Kashaf    78       75  82         CE  78.333333\n",
      "3   Maliha    92       95  97         CS  94.666667\n",
      "4     Doaa    88       90  85         ME  87.666667\n",
      "5   Zainab    76       70  78         CE  74.666667\n",
      "6    Ahmed    80       88  92         CS  86.666667\n",
      "7    Usman    95       93  96         EE  94.666667\n",
      "8   Fatima    89       84  91         CS  88.000000\n",
      "9   Hassan    70       65  72         ME  69.000000\n"
     ]
    }
   ],
   "source": [
    "df['average']=df[['Math','Physics','CS']].mean(axis=1)\n",
    "print(\"-----------Average------\\n\",df)"
   ]
  },
  {
   "cell_type": "code",
   "execution_count": 38,
   "id": "6ec330fd-ecc6-4a98-b9ec-f88724cf8ce1",
   "metadata": {},
   "outputs": [
    {
     "name": "stdout",
     "output_type": "stream",
     "text": [
      "   Student  Math  Physics  CS Department    average\n",
      "9   Hassan    70       65  72         ME  69.000000\n",
      "5   Zainab    76       70  78         CE  74.666667\n",
      "2   Kashaf    78       75  82         CE  78.333333\n",
      "0   Areeba    85       80  90         CS  85.000000\n",
      "6    Ahmed    80       88  92         CS  86.666667\n",
      "1  Sabahat    90       85  88         EE  87.666667\n",
      "4     Doaa    88       90  85         ME  87.666667\n",
      "8   Fatima    89       84  91         CS  88.000000\n",
      "3   Maliha    92       95  97         CS  94.666667\n",
      "7    Usman    95       93  96         EE  94.666667\n"
     ]
    }
   ],
   "source": [
    "print(df.sort_values(by='average',ascending=True))"
   ]
  },
  {
   "cell_type": "code",
   "execution_count": 44,
   "id": "91118dd6-a496-4e0b-8226-37c1d95c58bc",
   "metadata": {},
   "outputs": [
    {
     "name": "stdout",
     "output_type": "stream",
     "text": [
      "First 5\n",
      "     Student  Math  Physics  CS Department    average\n",
      "3   Maliha    92       95  97         CS  94.666667\n",
      "7    Usman    95       93  96         EE  94.666667\n",
      "8   Fatima    89       84  91         CS  88.000000\n",
      "1  Sabahat    90       85  88         EE  87.666667\n",
      "4     Doaa    88       90  85         ME  87.666667\n"
     ]
    }
   ],
   "source": [
    "top=df.nlargest(5,\"average\")\n",
    "print(\"First 5\\n \",top)"
   ]
  },
  {
   "cell_type": "code",
   "execution_count": 46,
   "id": "f168de02-6f96-4f3a-b833-e4ad13f2365f",
   "metadata": {},
   "outputs": [
    {
     "name": "stdout",
     "output_type": "stream",
     "text": [
      "  Student  Math  Physics  CS Department    average\n",
      "0  Areeba    85       80  90         CS  85.000000\n",
      "3  Maliha    92       95  97         CS  94.666667\n",
      "6   Ahmed    80       88  92         CS  86.666667\n",
      "8  Fatima    89       84  91         CS  88.000000\n"
     ]
    }
   ],
   "source": [
    "cs_students=df[df['Department']=='CS']\n",
    "print(cs_students)"
   ]
  },
  {
   "cell_type": "code",
   "execution_count": null,
   "id": "fd827274-9bc2-4cb7-890f-4a11e88b67ea",
   "metadata": {},
   "outputs": [],
   "source": []
  }
 ],
 "metadata": {
  "kernelspec": {
   "display_name": "Python 3 (ipykernel)",
   "language": "python",
   "name": "python3"
  },
  "language_info": {
   "codemirror_mode": {
    "name": "ipython",
    "version": 3
   },
   "file_extension": ".py",
   "mimetype": "text/x-python",
   "name": "python",
   "nbconvert_exporter": "python",
   "pygments_lexer": "ipython3",
   "version": "3.12.7"
  }
 },
 "nbformat": 4,
 "nbformat_minor": 5
}
