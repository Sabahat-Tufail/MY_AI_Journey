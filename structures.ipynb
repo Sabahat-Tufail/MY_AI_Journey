{
 "cells": [
  {
   "cell_type": "code",
   "execution_count": 3,
   "id": "2f8fb3dc-b691-4746-b529-b5e60e9dceaf",
   "metadata": {},
   "outputs": [
    {
     "name": "stdout",
     "output_type": "stream",
     "text": [
      "Structured Data :\n",
      "    ID     Name  Age  Salaray\n",
      "0   1    Alice   25       25\n",
      "1   2      Bob   30       30\n",
      "2   3  Charlie   35       35\n",
      "3   4    David   40       40\n"
     ]
    }
   ],
   "source": [
    "import pandas as pd\n",
    "\n",
    "structure = pd.DataFrame({\n",
    "    \"ID\" : [1,2,3,4],\n",
    "    \"Name\" : [\"Alice\",\"Bob\",\"Charlie\",\"David\"],\n",
    "    \"Age\": [25,30,35,40],\n",
    "    \"Salaray\":[25,30,35,40],\n",
    "})\n",
    "print(\"Structured Data :\\n\",structure)"
   ]
  },
  {
   "cell_type": "code",
   "execution_count": 6,
   "id": "21ffd820-530a-4b93-bebb-6a74f06dd1f2",
   "metadata": {},
   "outputs": [
    {
     "name": "stdout",
     "output_type": "stream",
     "text": [
      "\n",
      "Unstructured Data : \n",
      " \n",
      "ALice is 25 years old.\n",
      "Bob is 35.\n",
      "Nida is 8.\n",
      "Charlie 35  years old earns 3500.\n",
      "\n"
     ]
    }
   ],
   "source": [
    "unstructure=\"\"\"\n",
    "ALice is 25 years old.\n",
    "Bob is 35.\n",
    "Nida is 8.\n",
    "Charlie 35  years old earns 3500.\n",
    "\"\"\"\n",
    "print(\"\\nUnstructured Data : \\n\",unstructure)"
   ]
  },
  {
   "cell_type": "code",
   "execution_count": 8,
   "id": "3b4c01a5-7a5e-466b-910b-6b3f06c72815",
   "metadata": {},
   "outputs": [
    {
     "name": "stdout",
     "output_type": "stream",
     "text": [
      "Mean Height : 1217.1000000000001\n",
      "Total students: 136\n"
     ]
    }
   ],
   "source": [
    "import numpy as np\n",
    "heights = np.array([170.5,124.4,1334,4333.3,123.3])\n",
    "students= np.array([25,30,56,25])\n",
    "\n",
    "print(\"Mean Height :\" , np.mean(heights))\n",
    "print(\"Total students:\",np.sum(students))"
   ]
  },
  {
   "cell_type": "code",
   "execution_count": 15,
   "id": "c600492e-cbf6-429a-a593-c33bc40be1ef",
   "metadata": {},
   "outputs": [
    {
     "name": "stdout",
     "output_type": "stream",
     "text": [
      "    Color   Rating  Binary\n",
      "0     Red      NaN       1\n",
      "1  orange      NaN       0\n",
      "2   green     poor       1\n",
      "3    blue  average       0\n",
      "4     red     Good       1\n",
      "\n",
      "Ordinal 0   -1\n",
      "1   -1\n",
      "2    0\n",
      "3    1\n",
      "4    2\n",
      "dtype: int8\n"
     ]
    }
   ],
   "source": [
    "import pandas as pd\n",
    "data ={\n",
    "    'Color' : ['Red','orange','green','blue','red'],\n",
    "    'Rating' :['good','excellent','poor','average','Good'] ,\n",
    "    'Binary':[1,0,1,0,1]\n",
    "}\n",
    "df = pd.DataFrame(data)\n",
    "df['Rating'] = pd.Categorical(df['Rating'],categories=['poor','average','Good','Excellent'], ordered=True)\n",
    "print(df)\n",
    "print(\"\\nOrdinal\",df['Rating'].cat.codes)"
   ]
  },
  {
   "cell_type": "code",
   "execution_count": 16,
   "id": "259b715f-033f-4555-9a0b-94dfda1ba81a",
   "metadata": {},
   "outputs": [
    {
     "name": "stdout",
     "output_type": "stream",
     "text": [
      "Mean :  27.25\n"
     ]
    }
   ],
   "source": [
    "data_mean=[10,20,39,40]\n",
    "mean=sum(data_mean)/len(data_mean)\n",
    "print(\"Mean : \",mean)"
   ]
  },
  {
   "cell_type": "code",
   "execution_count": 19,
   "id": "1ecd3c41-516c-4bc1-ab21-d8182115cef7",
   "metadata": {},
   "outputs": [
    {
     "name": "stdout",
     "output_type": "stream",
     "text": [
      "Median(Odd count): 12.5\n",
      "Median(Even count): 9.0\n"
     ]
    }
   ],
   "source": [
    "import numpy as np\n",
    "\n",
    "data_median_odd=[5,10,15,23]\n",
    "median_odd=np.median(data_median_odd)\n",
    "print(\"Median(Odd count):\",median_odd)\n",
    "\n",
    "data_median_even=[3,6,9,12,15]\n",
    "median_even=np.median(data_median_even)\n",
    "print(\"Median(Even count):\",median_even)\n"
   ]
  },
  {
   "cell_type": "code",
   "execution_count": 21,
   "id": "7b2493da-4a3d-4fdb-8379-984a63139214",
   "metadata": {},
   "outputs": [
    {
     "name": "stdout",
     "output_type": "stream",
     "text": [
      "Mode(s): [12]\n"
     ]
    }
   ],
   "source": [
    "import statistics\n",
    "data_mode=[7,8,8,10,12,12,12,15,18]\n",
    "mode=statistics.multimode(data_mode)\n",
    "print(\"Mode(s):\",mode)"
   ]
  },
  {
   "cell_type": "code",
   "execution_count": 1,
   "id": "a83ab734-3e76-4262-a944-cbd5a6160625",
   "metadata": {},
   "outputs": [
    {
     "name": "stdout",
     "output_type": "stream",
     "text": [
      "\n",
      "Ordinal Data:\n",
      "       Name Educational_level\n",
      "0    Alice          Bachelor\n",
      "1      Bob            Master\n",
      "2  Charlie               PhD\n",
      "3    David       High School\n",
      "\n",
      "Ordinal Codes:\n",
      " 0    1\n",
      "1    2\n",
      "2    3\n",
      "3    0\n",
      "dtype: int8\n"
     ]
    }
   ],
   "source": [
    "import pandas as pd\n",
    "\n",
    "data_ordinal = {\n",
    "    \"Name\": [\"Alice\", \"Bob\", \"Charlie\", \"David\"],\n",
    "    \"Educational_level\": [\"Bachelor\", \"Master\", \"PhD\", \"High School\"]  # Fixed \"PhD\"\n",
    "}\n",
    "\n",
    "df_ordinal = pd.DataFrame(data_ordinal)\n",
    "\n",
    "# Define the order for educational levels\n",
    "educational_order = [\"High School\", \"Bachelor\", \"Master\", \"PhD\"]\n",
    "\n",
    "# Convert to an ordered categorical type\n",
    "df_ordinal[\"Educational_level\"] = pd.Categorical(\n",
    "    df_ordinal[\"Educational_level\"],\n",
    "    categories=educational_order,\n",
    "    ordered=True\n",
    ")\n",
    "\n",
    "# Print the dataframe\n",
    "print(\"\\nOrdinal Data:\\n\", df_ordinal)\n",
    "\n",
    "# Print the corresponding codes\n",
    "print(\"\\nOrdinal Codes:\\n\", df_ordinal[\"Educational_level\"].cat.codes)\n"
   ]
  },
  {
   "cell_type": "code",
   "execution_count": 1,
   "id": "217b3d35-2241-4f19-8e2b-38d8f2cb437a",
   "metadata": {},
   "outputs": [
    {
     "name": "stdout",
     "output_type": "stream",
     "text": [
      "Hello! neend arahi hai\n"
     ]
    }
   ],
   "source": [
    "print(\"Hello! neend arahi hai\")"
   ]
  },
  {
   "cell_type": "code",
   "execution_count": 2,
   "id": "bce8f3aa-5eff-4d00-9512-3223964d0082",
   "metadata": {},
   "outputs": [
    {
     "name": "stdout",
     "output_type": "stream",
     "text": [
      "Tu so jao\n"
     ]
    }
   ],
   "source": [
    "print(\"Tu so jao\")\n"
   ]
  },
  {
   "cell_type": "code",
   "execution_count": 3,
   "id": "810594e8-388a-4bf8-961c-c6676a223e0c",
   "metadata": {},
   "outputs": [
    {
     "name": "stdout",
     "output_type": "stream",
     "text": [
      "Ni so nai skti\n"
     ]
    }
   ],
   "source": [
    "print (\"Ni so nai skti\")"
   ]
  },
  {
   "cell_type": "code",
   "execution_count": 4,
   "id": "5afa05da-b274-4264-b069-21a66ae87a84",
   "metadata": {},
   "outputs": [
    {
     "name": "stdout",
     "output_type": "stream",
     "text": [
      "Phir muje kiya kehti ho\n"
     ]
    }
   ],
   "source": [
    "print(\"Phir muje kiya kehti ho\")"
   ]
  },
  {
   "cell_type": "code",
   "execution_count": 5,
   "id": "76db3250-97bd-43a1-a34f-98eb6274ade4",
   "metadata": {},
   "outputs": [
    {
     "name": "stdout",
     "output_type": "stream",
     "text": [
      "bhar mai jao\n"
     ]
    }
   ],
   "source": [
    "print(\"bhar mai jao\")"
   ]
  },
  {
   "cell_type": "code",
   "execution_count": null,
   "id": "8231899e-5d9d-4482-86f9-fda2f05ed032",
   "metadata": {},
   "outputs": [],
   "source": [
    "import numpy"
   ]
  }
 ],
 "metadata": {
  "kernelspec": {
   "display_name": "Python 3 (ipykernel)",
   "language": "python",
   "name": "python3"
  },
  "language_info": {
   "codemirror_mode": {
    "name": "ipython",
    "version": 3
   },
   "file_extension": ".py",
   "mimetype": "text/x-python",
   "name": "python",
   "nbconvert_exporter": "python",
   "pygments_lexer": "ipython3",
   "version": "3.12.7"
  }
 },
 "nbformat": 4,
 "nbformat_minor": 5
}
